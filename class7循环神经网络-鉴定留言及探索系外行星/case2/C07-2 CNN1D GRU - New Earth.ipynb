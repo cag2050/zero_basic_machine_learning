{
 "cells": [
  {
   "cell_type": "code",
   "execution_count": 6,
   "metadata": {
    "collapsed": true,
    "ExecuteTime": {
     "end_time": "2023-07-02T05:11:21.829485Z",
     "start_time": "2023-07-02T05:11:16.633609Z"
    }
   },
   "outputs": [
    {
     "name": "stdout",
     "output_type": "stream",
     "text": [
      "   LABEL   FLUX.1   FLUX.2   FLUX.3   FLUX.4   FLUX.5   FLUX.6  FLUX.7  \\\n",
      "0      2    93.85    83.81    20.10   -26.98   -39.56  -124.71 -135.18   \n",
      "1      2   -38.88   -33.83   -58.54   -40.09   -79.31   -72.81  -86.55   \n",
      "2      2   532.64   535.92   513.73   496.92   456.45   466.00  464.50   \n",
      "3      2   326.52   347.39   302.35   298.13   317.74   312.70  322.33   \n",
      "4      2 -1107.21 -1112.59 -1118.95 -1095.10 -1057.55 -1034.48 -998.34   \n",
      "\n",
      "    FLUX.8  FLUX.9  ...  FLUX.3188  FLUX.3189  FLUX.3190  FLUX.3191  \\\n",
      "0   -96.27  -79.89  ...     -78.07    -102.15    -102.15      25.13   \n",
      "1   -85.33  -83.97  ...      -3.28     -32.21     -32.21     -24.89   \n",
      "2   486.39  436.56  ...     -71.69      13.31      13.31     -29.89   \n",
      "3   311.31  312.42  ...       5.71      -3.73      -3.73      30.05   \n",
      "4 -1022.71 -989.57  ...    -594.37    -401.66    -401.66    -357.24   \n",
      "\n",
      "   FLUX.3192  FLUX.3193  FLUX.3194  FLUX.3195  FLUX.3196  FLUX.3197  \n",
      "0      48.57      92.54      39.32      61.42       5.08     -39.54  \n",
      "1      -4.86       0.76     -11.70       6.46      16.00      19.93  \n",
      "2     -20.88       5.06     -11.80     -28.91     -70.02     -96.67  \n",
      "3      20.03     -12.67      -8.77     -17.31     -17.35      13.98  \n",
      "4    -443.76    -438.54    -399.71    -384.65    -411.79    -510.54  \n",
      "\n",
      "[5 rows x 3198 columns]\n",
      "<class 'pandas.core.frame.DataFrame'>\n",
      "RangeIndex: 5087 entries, 0 to 5086\n",
      "Columns: 3198 entries, LABEL to FLUX.3197\n",
      "dtypes: float64(3197), int64(1)\n",
      "memory usage: 124.1 MB\n",
      "None\n"
     ]
    }
   ],
   "source": [
    "import numpy as np  # 导入NumPy\n",
    "import pandas as pd  # 导入Pandas\n",
    "\n",
    "df_train = pd.read_csv('./dataset/exoTrain.csv')  # 导入训练集\n",
    "df_test = pd.read_csv('./dataset/exoTest.csv')  # 导入测试集\n",
    "print(df_train.head())  # 输入头几行数据\n",
    "print(df_train.info())  # 输出训练集信息"
   ]
  },
  {
   "cell_type": "code",
   "execution_count": 7,
   "outputs": [],
   "source": [
    "from sklearn.utils import shuffle  # 导入乱序工具\n",
    "\n",
    "df_train = shuffle(df_train)  # 乱序训练集\n",
    "df_test = shuffle(df_test)  # 乱序测试集"
   ],
   "metadata": {
    "collapsed": false,
    "ExecuteTime": {
     "end_time": "2023-07-02T05:11:21.986601Z",
     "start_time": "2023-07-02T05:11:21.832352Z"
    }
   }
  },
  {
   "cell_type": "code",
   "execution_count": 8,
   "outputs": [
    {
     "name": "stdout",
     "output_type": "stream",
     "text": [
      "[[  -45.16    80.56   105.4  ...   653.15   492.87   400.84]\n",
      " [ -201.18  -140.13  -153.79 ...    26.31    43.81    50.78]\n",
      " [ -900.44  -865.84  -857.47 ... -2031.97 -2078.65 -2221.8 ]\n",
      " ...\n",
      " [  -48.69   -58.42   -36.2  ...    -4.4    -20.36   -11.43]\n",
      " [  976.98   922.62   920.29 ...   361.61   352.63   335.63]\n",
      " [   19.16    -4.73    15.58 ...   -58.54   -18.39   -69.87]]\n",
      "[0 0 0 ... 0 0 0]\n"
     ]
    }
   ],
   "source": [
    "X_train = df_train.iloc[:, 1:].values  # 构建特征集（训练）\n",
    "y_train = df_train.iloc[:, 0].values  # 构建标签集（训练）\n",
    "X_test = df_test.iloc[:, 1:].values  # 构建特征集（测试）\n",
    "y_test = df_test.iloc[:, 0].values  # 构建标签集（测试）\n",
    "y_train = y_train - 1  # 标签转换成惯用的(0，1)分类\n",
    "y_test = y_test - 1  # 标签转换成惯用的(0，1)分类\n",
    "print(X_train)  # 打印训练集中的特征\n",
    "print(y_train)  # 打印训练集中的标签"
   ],
   "metadata": {
    "collapsed": false,
    "ExecuteTime": {
     "end_time": "2023-07-02T05:11:22.077942Z",
     "start_time": "2023-07-02T05:11:21.981811Z"
    }
   }
  },
  {
   "cell_type": "code",
   "execution_count": 9,
   "outputs": [
    {
     "name": "stdout",
     "output_type": "stream",
     "text": [
      "(5087, 3197, 1)\n"
     ]
    }
   ],
   "source": [
    "X_train = np.expand_dims(X_train, axis=2)  # 张量升阶，以满足序列数据集的要求\n",
    "X_test = np.expand_dims(X_test, axis=2)  # 张量升阶，以满足序列数据集的要求\n",
    "print(X_train.shape)"
   ],
   "metadata": {
    "collapsed": false,
    "ExecuteTime": {
     "end_time": "2023-07-02T05:11:22.078248Z",
     "start_time": "2023-07-02T05:11:21.994604Z"
    }
   }
  },
  {
   "cell_type": "code",
   "execution_count": 11,
   "outputs": [
    {
     "name": "stderr",
     "output_type": "stream",
     "text": [
      "2023-07-02 13:12:08.925394: I tensorflow/core/common_runtime/executor.cc:1197] [/device:CPU:0] (DEBUG INFO) Executor start aborting (this does not indicate an error and you can ignore this message): INVALID_ARGUMENT: You must feed a value for placeholder tensor 'gradients/split_2_grad/concat/split_2/split_dim' with dtype int32\n",
      "\t [[{{node gradients/split_2_grad/concat/split_2/split_dim}}]]\n",
      "2023-07-02 13:12:08.927796: I tensorflow/core/common_runtime/executor.cc:1197] [/device:CPU:0] (DEBUG INFO) Executor start aborting (this does not indicate an error and you can ignore this message): INVALID_ARGUMENT: You must feed a value for placeholder tensor 'gradients/split_grad/concat/split/split_dim' with dtype int32\n",
      "\t [[{{node gradients/split_grad/concat/split/split_dim}}]]\n",
      "2023-07-02 13:12:08.937977: I tensorflow/core/common_runtime/executor.cc:1197] [/device:CPU:0] (DEBUG INFO) Executor start aborting (this does not indicate an error and you can ignore this message): INVALID_ARGUMENT: You must feed a value for placeholder tensor 'gradients/split_1_grad/concat/split_1/split_dim' with dtype int32\n",
      "\t [[{{node gradients/split_1_grad/concat/split_1/split_dim}}]]\n"
     ]
    }
   ],
   "source": [
    "from keras.models import Sequential  # 导入序贯模型\n",
    "from keras import layers  # 导入所有类型的层\n",
    "from keras.optimizers import Adam  # 导入优化器\n",
    "\n",
    "model = Sequential()  # 序贯模型\n",
    "model.add(layers.Conv1D(32, kernel_size=10, strides=4,\n",
    "                        input_shape=(3197, 1)))  # 1D CNN层\n",
    "model.add(layers.MaxPooling1D(pool_size=4, strides=2))  # 池化层\n",
    "model.add(layers.GRU(256, return_sequences=True))  # 关键，GRU层够要大\n",
    "model.add(layers.Flatten())  # 展平\n",
    "model.add(layers.Dropout(0.5))  # Dropout层\n",
    "model.add(layers.BatchNormalization())  # 批标准化\n",
    "model.add(layers.Dense(1, activation='sigmoid'))  # 分类输出层\n",
    "opt = Adam(learning_rate=0.0001, beta_1=0.9, beta_2=0.999, decay=0.01)  # 设置优化器\n",
    "model.compile(optimizer=opt,  # 优化器\n",
    "              loss='binary_crossentropy',  # 交叉熵\n",
    "              metrics=['accuracy'])  # 准确率"
   ],
   "metadata": {
    "collapsed": false,
    "ExecuteTime": {
     "end_time": "2023-07-02T05:12:09.030156Z",
     "start_time": "2023-07-02T05:12:08.546987Z"
    }
   }
  },
  {
   "cell_type": "code",
   "execution_count": 12,
   "outputs": [
    {
     "name": "stdout",
     "output_type": "stream",
     "text": [
      "Epoch 1/4\n"
     ]
    },
    {
     "name": "stderr",
     "output_type": "stream",
     "text": [
      "2023-07-02 13:14:03.062809: I tensorflow/core/common_runtime/executor.cc:1197] [/device:CPU:0] (DEBUG INFO) Executor start aborting (this does not indicate an error and you can ignore this message): INVALID_ARGUMENT: You must feed a value for placeholder tensor 'gradients/split_2_grad/concat/split_2/split_dim' with dtype int32\n",
      "\t [[{{node gradients/split_2_grad/concat/split_2/split_dim}}]]\n",
      "2023-07-02 13:14:03.064492: I tensorflow/core/common_runtime/executor.cc:1197] [/device:CPU:0] (DEBUG INFO) Executor start aborting (this does not indicate an error and you can ignore this message): INVALID_ARGUMENT: You must feed a value for placeholder tensor 'gradients/split_grad/concat/split/split_dim' with dtype int32\n",
      "\t [[{{node gradients/split_grad/concat/split/split_dim}}]]\n",
      "2023-07-02 13:14:03.066212: I tensorflow/core/common_runtime/executor.cc:1197] [/device:CPU:0] (DEBUG INFO) Executor start aborting (this does not indicate an error and you can ignore this message): INVALID_ARGUMENT: You must feed a value for placeholder tensor 'gradients/split_1_grad/concat/split_1/split_dim' with dtype int32\n",
      "\t [[{{node gradients/split_1_grad/concat/split_1/split_dim}}]]\n",
      "2023-07-02 13:14:04.104199: I tensorflow/core/common_runtime/executor.cc:1197] [/device:CPU:0] (DEBUG INFO) Executor start aborting (this does not indicate an error and you can ignore this message): INVALID_ARGUMENT: You must feed a value for placeholder tensor 'gradients/split_2_grad/concat/split_2/split_dim' with dtype int32\n",
      "\t [[{{node gradients/split_2_grad/concat/split_2/split_dim}}]]\n",
      "2023-07-02 13:14:04.105768: I tensorflow/core/common_runtime/executor.cc:1197] [/device:CPU:0] (DEBUG INFO) Executor start aborting (this does not indicate an error and you can ignore this message): INVALID_ARGUMENT: You must feed a value for placeholder tensor 'gradients/split_grad/concat/split/split_dim' with dtype int32\n",
      "\t [[{{node gradients/split_grad/concat/split/split_dim}}]]\n",
      "2023-07-02 13:14:04.107420: I tensorflow/core/common_runtime/executor.cc:1197] [/device:CPU:0] (DEBUG INFO) Executor start aborting (this does not indicate an error and you can ignore this message): INVALID_ARGUMENT: You must feed a value for placeholder tensor 'gradients/split_1_grad/concat/split_1/split_dim' with dtype int32\n",
      "\t [[{{node gradients/split_1_grad/concat/split_1/split_dim}}]]\n"
     ]
    },
    {
     "name": "stdout",
     "output_type": "stream",
     "text": [
      "32/32 [==============================] - ETA: 0s - loss: 0.6507 - accuracy: 0.6638"
     ]
    },
    {
     "name": "stderr",
     "output_type": "stream",
     "text": [
      "2023-07-02 13:14:42.345914: I tensorflow/core/common_runtime/executor.cc:1197] [/device:CPU:0] (DEBUG INFO) Executor start aborting (this does not indicate an error and you can ignore this message): INVALID_ARGUMENT: You must feed a value for placeholder tensor 'gradients/split_2_grad/concat/split_2/split_dim' with dtype int32\n",
      "\t [[{{node gradients/split_2_grad/concat/split_2/split_dim}}]]\n",
      "2023-07-02 13:14:42.346924: I tensorflow/core/common_runtime/executor.cc:1197] [/device:CPU:0] (DEBUG INFO) Executor start aborting (this does not indicate an error and you can ignore this message): INVALID_ARGUMENT: You must feed a value for placeholder tensor 'gradients/split_grad/concat/split/split_dim' with dtype int32\n",
      "\t [[{{node gradients/split_grad/concat/split/split_dim}}]]\n",
      "2023-07-02 13:14:42.348113: I tensorflow/core/common_runtime/executor.cc:1197] [/device:CPU:0] (DEBUG INFO) Executor start aborting (this does not indicate an error and you can ignore this message): INVALID_ARGUMENT: You must feed a value for placeholder tensor 'gradients/split_1_grad/concat/split_1/split_dim' with dtype int32\n",
      "\t [[{{node gradients/split_1_grad/concat/split_1/split_dim}}]]\n"
     ]
    },
    {
     "name": "stdout",
     "output_type": "stream",
     "text": [
      "32/32 [==============================] - 42s 1s/step - loss: 0.6507 - accuracy: 0.6638 - val_loss: 0.2467 - val_accuracy: 0.9853\n",
      "Epoch 2/4\n",
      "32/32 [==============================] - 39s 1s/step - loss: 0.3514 - accuracy: 0.8754 - val_loss: 0.1860 - val_accuracy: 0.9872\n",
      "Epoch 3/4\n",
      "32/32 [==============================] - 37s 1s/step - loss: 0.2344 - accuracy: 0.9363 - val_loss: 0.1307 - val_accuracy: 0.9892\n",
      "Epoch 4/4\n",
      "32/32 [==============================] - 37s 1s/step - loss: 0.1674 - accuracy: 0.9658 - val_loss: 0.0957 - val_accuracy: 0.9892\n"
     ]
    }
   ],
   "source": [
    "history = model.fit(X_train, y_train,  # 训练集\n",
    "                    validation_split=0.2,  # 部分训练集数据拆分成验证集\n",
    "                    batch_size=128,  # 批量大小\n",
    "                    epochs=4,  # 训练轮次\n",
    "                    shuffle=True)  # 乱序"
   ],
   "metadata": {
    "collapsed": false,
    "ExecuteTime": {
     "end_time": "2023-07-02T05:16:38.300227Z",
     "start_time": "2023-07-02T05:14:02.582905Z"
    }
   }
  },
  {
   "cell_type": "code",
   "execution_count": 13,
   "outputs": [
    {
     "name": "stderr",
     "output_type": "stream",
     "text": [
      "2023-07-02 13:19:06.787013: I tensorflow/core/common_runtime/executor.cc:1197] [/device:CPU:0] (DEBUG INFO) Executor start aborting (this does not indicate an error and you can ignore this message): INVALID_ARGUMENT: You must feed a value for placeholder tensor 'gradients/split_2_grad/concat/split_2/split_dim' with dtype int32\n",
      "\t [[{{node gradients/split_2_grad/concat/split_2/split_dim}}]]\n",
      "2023-07-02 13:19:06.788589: I tensorflow/core/common_runtime/executor.cc:1197] [/device:CPU:0] (DEBUG INFO) Executor start aborting (this does not indicate an error and you can ignore this message): INVALID_ARGUMENT: You must feed a value for placeholder tensor 'gradients/split_grad/concat/split/split_dim' with dtype int32\n",
      "\t [[{{node gradients/split_grad/concat/split/split_dim}}]]\n",
      "2023-07-02 13:19:06.790347: I tensorflow/core/common_runtime/executor.cc:1197] [/device:CPU:0] (DEBUG INFO) Executor start aborting (this does not indicate an error and you can ignore this message): INVALID_ARGUMENT: You must feed a value for placeholder tensor 'gradients/split_1_grad/concat/split_1/split_dim' with dtype int32\n",
      "\t [[{{node gradients/split_1_grad/concat/split_1/split_dim}}]]\n"
     ]
    },
    {
     "name": "stdout",
     "output_type": "stream",
     "text": [
      "18/18 [==============================] - 3s 112ms/step\n",
      "Confusion matrix:\n",
      " [[565   5]\n",
      " [  0   0]] \n",
      "\n",
      "              precision    recall  f1-score   support\n",
      "\n",
      "           0       1.00      0.99      1.00       570\n",
      "           1       0.00      0.00      0.00         0\n",
      "\n",
      "    accuracy                           0.99       570\n",
      "   macro avg       0.50      0.50      0.50       570\n",
      "weighted avg       1.00      0.99      1.00       570\n",
      "\n"
     ]
    },
    {
     "name": "stderr",
     "output_type": "stream",
     "text": [
      "/Users/cag2050/Documents/PycharmProjects/zero_basic_machine_learning/venv/lib/python3.9/site-packages/sklearn/metrics/_classification.py:1344: UndefinedMetricWarning: Recall and F-score are ill-defined and being set to 0.0 in labels with no true samples. Use `zero_division` parameter to control this behavior.\n",
      "  _warn_prf(average, modifier, msg_start, len(result))\n",
      "/Users/cag2050/Documents/PycharmProjects/zero_basic_machine_learning/venv/lib/python3.9/site-packages/sklearn/metrics/_classification.py:1344: UndefinedMetricWarning: Recall and F-score are ill-defined and being set to 0.0 in labels with no true samples. Use `zero_division` parameter to control this behavior.\n",
      "  _warn_prf(average, modifier, msg_start, len(result))\n",
      "/Users/cag2050/Documents/PycharmProjects/zero_basic_machine_learning/venv/lib/python3.9/site-packages/sklearn/metrics/_classification.py:1344: UndefinedMetricWarning: Recall and F-score are ill-defined and being set to 0.0 in labels with no true samples. Use `zero_division` parameter to control this behavior.\n",
      "  _warn_prf(average, modifier, msg_start, len(result))\n"
     ]
    }
   ],
   "source": [
    "from sklearn.metrics import classification_report  # 分类报告\n",
    "from sklearn.metrics import confusion_matrix  # 混淆矩阵\n",
    "\n",
    "y_prob = model.predict(X_test)  # 对测试集进行预测\n",
    "y_pred = np.where(y_prob > 0.5, 1, 0)  #将概率值转换成真值\n",
    "cm = confusion_matrix(y_pred, y_test)\n",
    "print('Confusion matrix:\\n', cm, '\\n')\n",
    "print(classification_report(y_pred, y_test))"
   ],
   "metadata": {
    "collapsed": false,
    "ExecuteTime": {
     "end_time": "2023-07-02T05:19:09.192893Z",
     "start_time": "2023-07-02T05:19:06.439077Z"
    }
   }
  },
  {
   "cell_type": "code",
   "execution_count": 14,
   "outputs": [
    {
     "name": "stdout",
     "output_type": "stream",
     "text": [
      "Confusion matrix:\n",
      " [[553   4]\n",
      " [ 12   1]] \n",
      "\n",
      "              precision    recall  f1-score   support\n",
      "\n",
      "           0       0.98      0.99      0.99       557\n",
      "           1       0.20      0.08      0.11        13\n",
      "\n",
      "    accuracy                           0.97       570\n",
      "   macro avg       0.59      0.53      0.55       570\n",
      "weighted avg       0.96      0.97      0.97       570\n",
      "\n"
     ]
    }
   ],
   "source": [
    "y_pred = np.where(y_prob > 0.15, 1, 0)  # 进行阈值调整\n",
    "cm = confusion_matrix(y_pred, y_test)\n",
    "print('Confusion matrix:\\n', cm, '\\n')\n",
    "print(classification_report(y_pred, y_test))"
   ],
   "metadata": {
    "collapsed": false,
    "ExecuteTime": {
     "end_time": "2023-07-02T05:20:23.253553Z",
     "start_time": "2023-07-02T05:20:23.214950Z"
    }
   }
  }
 ],
 "metadata": {
  "kernelspec": {
   "display_name": "Python 3",
   "language": "python",
   "name": "python3"
  },
  "language_info": {
   "codemirror_mode": {
    "name": "ipython",
    "version": 2
   },
   "file_extension": ".py",
   "mimetype": "text/x-python",
   "name": "python",
   "nbconvert_exporter": "python",
   "pygments_lexer": "ipython2",
   "version": "2.7.6"
  }
 },
 "nbformat": 4,
 "nbformat_minor": 0
}
