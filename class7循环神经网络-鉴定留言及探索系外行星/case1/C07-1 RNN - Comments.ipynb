{
 "cells": [
  {
   "cell_type": "code",
   "execution_count": 1,
   "metadata": {
    "collapsed": true,
    "ExecuteTime": {
     "end_time": "2023-07-02T04:34:20.907082Z",
     "start_time": "2023-07-02T04:34:20.337800Z"
    }
   },
   "outputs": [
    {
     "data": {
      "text/plain": "   id                                        Review Text  Rating\n0   0       Absolutely wonderful - silky and comfortable       4\n1   1  Love this dress!  it's sooo pretty.  i happene...       5\n2   2  I had such high hopes for this dress and reall...       3\n3   3  I love, love, love this jumpsuit. it's fun, fl...       5\n4   4  This shirt is very flattering to all due to th...       5",
      "text/html": "<div>\n<style scoped>\n    .dataframe tbody tr th:only-of-type {\n        vertical-align: middle;\n    }\n\n    .dataframe tbody tr th {\n        vertical-align: top;\n    }\n\n    .dataframe thead th {\n        text-align: right;\n    }\n</style>\n<table border=\"1\" class=\"dataframe\">\n  <thead>\n    <tr style=\"text-align: right;\">\n      <th></th>\n      <th>id</th>\n      <th>Review Text</th>\n      <th>Rating</th>\n    </tr>\n  </thead>\n  <tbody>\n    <tr>\n      <th>0</th>\n      <td>0</td>\n      <td>Absolutely wonderful - silky and comfortable</td>\n      <td>4</td>\n    </tr>\n    <tr>\n      <th>1</th>\n      <td>1</td>\n      <td>Love this dress!  it's sooo pretty.  i happene...</td>\n      <td>5</td>\n    </tr>\n    <tr>\n      <th>2</th>\n      <td>2</td>\n      <td>I had such high hopes for this dress and reall...</td>\n      <td>3</td>\n    </tr>\n    <tr>\n      <th>3</th>\n      <td>3</td>\n      <td>I love, love, love this jumpsuit. it's fun, fl...</td>\n      <td>5</td>\n    </tr>\n    <tr>\n      <th>4</th>\n      <td>4</td>\n      <td>This shirt is very flattering to all due to th...</td>\n      <td>5</td>\n    </tr>\n  </tbody>\n</table>\n</div>"
     },
     "execution_count": 1,
     "metadata": {},
     "output_type": "execute_result"
    }
   ],
   "source": [
    "import pandas as pd  # 导入Pandas\n",
    "import numpy as np  # 导入NumPy\n",
    "\n",
    "dir = './dataset/'\n",
    "dir_train = dir + 'Clothing Reviews.csv'\n",
    "df_train = pd.read_csv(dir_train)  # 读入训练集\n",
    "df_train.head()  # 输出部分数据"
   ]
  },
  {
   "cell_type": "code",
   "execution_count": 2,
   "outputs": [
    {
     "name": "stderr",
     "output_type": "stream",
     "text": [
      "2023-07-02 12:36:24.665576: I tensorflow/core/platform/cpu_feature_guard.cc:182] This TensorFlow binary is optimized to use available CPU instructions in performance-critical operations.\n",
      "To enable the following instructions: AVX2 FMA, in other operations, rebuild TensorFlow with the appropriate compiler flags.\n"
     ]
    }
   ],
   "source": [
    "from keras.preprocessing.text import Tokenizer  # 导入分词工具\n",
    "\n",
    "X_train_lst = df_train[\"Review Text\"].values  # 将评论读入张量(训练集)\n",
    "y_train = df_train[\"Rating\"].values  # 构建标签集\n",
    "dictionary_size = 20000  # 设定词典的大小\n",
    "tokenizer = Tokenizer(num_words=dictionary_size)  # 初始化词典\n",
    "tokenizer.fit_on_texts(X_train_lst)  # 使用训练集创建词典索引\n",
    "# 为所有的单词分配索引值，完成分词工作\n",
    "X_train_tokenized_lst = tokenizer.texts_to_sequences(X_train_lst)"
   ],
   "metadata": {
    "collapsed": false,
    "ExecuteTime": {
     "end_time": "2023-07-02T04:36:29.389068Z",
     "start_time": "2023-07-02T04:36:23.544668Z"
    }
   }
  },
  {
   "cell_type": "code",
   "execution_count": 3,
   "outputs": [
    {
     "data": {
      "text/plain": "<Figure size 640x480 with 1 Axes>",
      "image/png": "[encoded data removed]"
     },
     "metadata": {},
     "output_type": "display_data"
    }
   ],
   "source": [
    "import matplotlib.pyplot as plt  # 导入matplotlib\n",
    "\n",
    "word_per_comment = [len(comment) for comment in X_train_tokenized_lst]\n",
    "plt.hist(word_per_comment, bins=np.arange(0, 500, 10))  # 显示评论长度分布\n",
    "plt.show()"
   ],
   "metadata": {
    "collapsed": false,
    "ExecuteTime": {
     "end_time": "2023-07-02T04:37:26.134237Z",
     "start_time": "2023-07-02T04:37:25.172785Z"
    }
   }
  },
  {
   "cell_type": "code",
   "execution_count": 4,
   "outputs": [],
   "source": [
    "from keras.utils import pad_sequences\n",
    "\n",
    "max_comment_length = 120  # 设定评论输入长度为100，并填充默认值(如字数少于120)\n",
    "X_train = pad_sequences(X_train_tokenized_lst, maxlen=max_comment_length)"
   ],
   "metadata": {
    "collapsed": false,
    "ExecuteTime": {
     "end_time": "2023-07-02T04:46:59.225679Z",
     "start_time": "2023-07-02T04:46:59.052870Z"
    }
   }
  },
  {
   "cell_type": "code",
   "execution_count": 5,
   "outputs": [
    {
     "name": "stdout",
     "output_type": "stream",
     "text": [
      "Model: \"sequential\"\n",
      "_________________________________________________________________\n",
      " Layer (type)                Output Shape              Param #   \n",
      "=================================================================\n",
      " embedding (Embedding)       (None, 120, 60)           1200000   \n",
      "                                                                 \n",
      " simple_rnn (SimpleRNN)      (None, 100)               16100     \n",
      "                                                                 \n",
      " dense (Dense)               (None, 10)                1010      \n",
      "                                                                 \n",
      " dense_1 (Dense)             (None, 6)                 66        \n",
      "                                                                 \n",
      "=================================================================\n",
      "Total params: 1,217,176\n",
      "Trainable params: 1,217,176\n",
      "Non-trainable params: 0\n",
      "_________________________________________________________________\n",
      "None\n"
     ]
    }
   ],
   "source": [
    "from keras.models import Sequential  # 导入贯序模型\n",
    "from keras.layers import Embedding  #导入词嵌入层\n",
    "from keras.layers import Dense  #导入全连接层\n",
    "from keras.layers import SimpleRNN  #导入SimpleRNN层\n",
    "\n",
    "embedding_vecor_length = 60  # 设定词嵌入向量长度为60\n",
    "rnn = Sequential()  # 贯序模型\n",
    "rnn.add(Embedding(dictionary_size, embedding_vecor_length,\n",
    "                  input_length=max_comment_length))  # 加入词嵌入层\n",
    "rnn.add(SimpleRNN(100))  # 加入SimpleRNN层\n",
    "rnn.add(Dense(10, activation='relu'))  # 加入全连接层\n",
    "rnn.add(Dense(6, activation='softmax'))  # 加入分类输出层\n",
    "rnn.compile(loss='sparse_categorical_crossentropy',  #损失函数\n",
    "            optimizer='adam',  # 优化器\n",
    "            metrics=['acc'])  # 评估指标\n",
    "print(rnn.summary())  #打印网络模型"
   ],
   "metadata": {
    "collapsed": false,
    "ExecuteTime": {
     "end_time": "2023-07-02T04:48:49.486486Z",
     "start_time": "2023-07-02T04:48:49.278085Z"
    }
   }
  },
  {
   "cell_type": "code",
   "execution_count": 6,
   "outputs": [
    {
     "name": "stdout",
     "output_type": "stream",
     "text": [
      "Epoch 1/10\n",
      "248/248 [==============================] - 11s 37ms/step - loss: 1.2171 - acc: 0.5586 - val_loss: 1.1603 - val_acc: 0.5566\n",
      "Epoch 2/10\n",
      "248/248 [==============================] - 9s 35ms/step - loss: 1.0279 - acc: 0.5945 - val_loss: 1.0460 - val_acc: 0.5810\n",
      "Epoch 3/10\n",
      "248/248 [==============================] - 9s 35ms/step - loss: 0.8990 - acc: 0.6344 - val_loss: 1.1741 - val_acc: 0.5013\n",
      "Epoch 4/10\n",
      "248/248 [==============================] - 9s 35ms/step - loss: 0.7918 - acc: 0.6804 - val_loss: 1.2355 - val_acc: 0.5024\n",
      "Epoch 5/10\n",
      "248/248 [==============================] - 8s 34ms/step - loss: 0.6939 - acc: 0.7183 - val_loss: 1.3899 - val_acc: 0.4715\n",
      "Epoch 6/10\n",
      "248/248 [==============================] - 9s 34ms/step - loss: 0.5443 - acc: 0.7831 - val_loss: 1.4731 - val_acc: 0.5323\n",
      "Epoch 7/10\n",
      "248/248 [==============================] - 8s 34ms/step - loss: 0.4303 - acc: 0.8330 - val_loss: 1.6745 - val_acc: 0.5042\n",
      "Epoch 8/10\n",
      "248/248 [==============================] - 9s 34ms/step - loss: 0.3275 - acc: 0.8798 - val_loss: 2.0553 - val_acc: 0.4680\n",
      "Epoch 9/10\n",
      "248/248 [==============================] - 8s 34ms/step - loss: 0.2485 - acc: 0.9110 - val_loss: 2.2351 - val_acc: 0.4852\n",
      "Epoch 10/10\n",
      "248/248 [==============================] - 8s 34ms/step - loss: 0.2055 - acc: 0.9274 - val_loss: 2.5251 - val_acc: 0.4503\n"
     ]
    }
   ],
   "source": [
    "history = rnn.fit(X_train, y_train,\n",
    "                  validation_split=0.3,\n",
    "                  epochs=10,\n",
    "                  batch_size=64)"
   ],
   "metadata": {
    "collapsed": false,
    "ExecuteTime": {
     "end_time": "2023-07-02T04:52:35.352631Z",
     "start_time": "2023-07-02T04:51:07.530601Z"
    }
   }
  },
  {
   "cell_type": "code",
   "execution_count": 7,
   "outputs": [
    {
     "name": "stdout",
     "output_type": "stream",
     "text": [
      "Epoch 1/10\n",
      "  1/248 [..............................] - ETA: 9s - loss: 0.1324 - acc: 0.9531"
     ]
    },
    {
     "name": "stderr",
     "output_type": "stream",
     "text": [
      "2023-07-02 12:56:43.320463: I tensorflow/core/common_runtime/executor.cc:1197] [/device:CPU:0] (DEBUG INFO) Executor start aborting (this does not indicate an error and you can ignore this message): INVALID_ARGUMENT: You must feed a value for placeholder tensor 'gradients/split_2_grad/concat/split_2/split_dim' with dtype int32\n",
      "\t [[{{node gradients/split_2_grad/concat/split_2/split_dim}}]]\n",
      "2023-07-02 12:56:43.323657: I tensorflow/core/common_runtime/executor.cc:1197] [/device:CPU:0] (DEBUG INFO) Executor start aborting (this does not indicate an error and you can ignore this message): INVALID_ARGUMENT: You must feed a value for placeholder tensor 'gradients/split_grad/concat/split/split_dim' with dtype int32\n",
      "\t [[{{node gradients/split_grad/concat/split/split_dim}}]]\n",
      "2023-07-02 12:56:43.325296: I tensorflow/core/common_runtime/executor.cc:1197] [/device:CPU:0] (DEBUG INFO) Executor start aborting (this does not indicate an error and you can ignore this message): INVALID_ARGUMENT: You must feed a value for placeholder tensor 'gradients/split_1_grad/concat/split_1/split_dim' with dtype int32\n",
      "\t [[{{node gradients/split_1_grad/concat/split_1/split_dim}}]]\n"
     ]
    },
    {
     "name": "stdout",
     "output_type": "stream",
     "text": [
      "248/248 [==============================] - 9s 36ms/step - loss: 0.1642 - acc: 0.9416 - val_loss: 2.7350 - val_acc: 0.4750\n",
      "Epoch 2/10\n",
      "248/248 [==============================] - 8s 34ms/step - loss: 0.1301 - acc: 0.9546 - val_loss: 2.8083 - val_acc: 0.4821\n",
      "Epoch 3/10\n",
      "248/248 [==============================] - 8s 34ms/step - loss: 0.1192 - acc: 0.9601 - val_loss: 2.8358 - val_acc: 0.4846\n",
      "Epoch 4/10\n",
      "248/248 [==============================] - 9s 35ms/step - loss: 0.0885 - acc: 0.9708 - val_loss: 3.3324 - val_acc: 0.4693\n",
      "Epoch 5/10\n",
      "248/248 [==============================] - 8s 34ms/step - loss: 0.0646 - acc: 0.9782 - val_loss: 3.3673 - val_acc: 0.4932\n",
      "Epoch 6/10\n",
      "248/248 [==============================] - 9s 35ms/step - loss: 0.0636 - acc: 0.9783 - val_loss: 3.3752 - val_acc: 0.5071\n",
      "Epoch 7/10\n",
      "248/248 [==============================] - 8s 34ms/step - loss: 0.0616 - acc: 0.9780 - val_loss: 3.5471 - val_acc: 0.4951\n",
      "Epoch 8/10\n",
      "248/248 [==============================] - 8s 33ms/step - loss: 0.0550 - acc: 0.9801 - val_loss: 3.8006 - val_acc: 0.4733\n",
      "Epoch 9/10\n",
      "248/248 [==============================] - 8s 33ms/step - loss: 0.0580 - acc: 0.9794 - val_loss: 3.8153 - val_acc: 0.4940\n",
      "Epoch 10/10\n",
      "248/248 [==============================] - 8s 33ms/step - loss: 0.0468 - acc: 0.9833 - val_loss: 3.9081 - val_acc: 0.4924\n"
     ]
    }
   ],
   "source": [
    "from keras.models import Sequential  # 导入贯序模型\n",
    "from keras.layers import Embedding  #导入词嵌入层\n",
    "from keras.layers import Dense  #导入全连接层\n",
    "from keras.layers import LSTM  #导入LSTM层\n",
    "\n",
    "embedding_vecor_length = 60  # 设定词嵌入向量长度为60\n",
    "lstm = Sequential()  # 贯序模型\n",
    "lstm.add(Embedding(dictionary_size, embedding_vecor_length,\n",
    "                   input_length=max_comment_length))  # 加入词嵌入层\n",
    "lstm.add(LSTM(100))  # 加入LSTM层\n",
    "lstm.add(Dense(10, activation='relu'))  # 加入全连接层\n",
    "lstm.add(Dense(6, activation='softmax'))  # 加入分类输出层\n",
    "lstm.compile(loss='sparse_categorical_crossentropy',  #损失函数\n",
    "             optimizer='adam',  # 优化器\n",
    "             metrics=['acc'])  # 评估指标\n",
    "history = rnn.fit(X_train, y_train,\n",
    "                  validation_split=0.3,\n",
    "                  epochs=10,\n",
    "                  batch_size=64)"
   ],
   "metadata": {
    "collapsed": false,
    "ExecuteTime": {
     "end_time": "2023-07-02T04:58:07.724669Z",
     "start_time": "2023-07-02T04:56:43.060171Z"
    }
   }
  }
 ],
 "metadata": {
  "kernelspec": {
   "display_name": "Python 3",
   "language": "python",
   "name": "python3"
  },
  "language_info": {
   "codemirror_mode": {
    "name": "ipython",
    "version": 2
   },
   "file_extension": ".py",
   "mimetype": "text/x-python",
   "name": "python",
   "nbconvert_exporter": "python",
   "pygments_lexer": "ipython2",
   "version": "2.7.6"
  }
 },
 "nbformat": 4,
 "nbformat_minor": 0
}
