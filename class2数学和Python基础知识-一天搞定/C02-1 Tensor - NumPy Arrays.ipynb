{
 "cells": [
  {
   "cell_type": "code",
   "execution_count": 4,
   "outputs": [
    {
     "name": "stdout",
     "output_type": "stream",
     "text": [
      "X的值 5\n",
      "X的阶 0\n",
      "X的数据类型 int64\n",
      "X的形状 ()\n"
     ]
    }
   ],
   "source": [
    "import numpy as np  #导入NumPy\n",
    "\n",
    "X = np.array(5)  # 创建0D张量，也就是标量\n",
    "print(\"X的值\", X)\n",
    "print(\"X的阶\", X.ndim)  #ndim属性显示张量轴的个数\n",
    "print(\"X的数据类型\", X.dtype)  # dtype属性显示张量数据类型\n",
    "print(\"X的形状\", X.shape)  # shape属性显示张量形状"
   ],
   "metadata": {
    "collapsed": false,
    "ExecuteTime": {
     "end_time": "2023-06-18T08:13:29.818134Z",
     "start_time": "2023-06-18T08:13:29.595094Z"
    }
   }
  },
  {
   "cell_type": "code",
   "execution_count": 5,
   "outputs": [],
   "source": [
    "n = 0\n",
    "for gender in [0, 1]:\n",
    "    n = n + 1  # Python要求4个空格表示语句块缩进"
   ],
   "metadata": {
    "collapsed": false,
    "ExecuteTime": {
     "end_time": "2023-06-18T08:13:29.819019Z",
     "start_time": "2023-06-18T08:13:29.769002Z"
    }
   }
  },
  {
   "cell_type": "code",
   "execution_count": 6,
   "outputs": [
    {
     "name": "stdout",
     "output_type": "stream",
     "text": [
      "X的值 [5 6 7 8 9]\n",
      "X的阶 1\n",
      "X的形状 (5,)\n"
     ]
    }
   ],
   "source": [
    "X = np.array([5, 6, 7, 8, 9])  #创建1D张量，也就是向量\n",
    "print(\"X的值\", X)\n",
    "print(\"X的阶\", X.ndim)  #ndim属性显示张量轴的个数\n",
    "print(\"X的形状\", X.shape)  # shape属性显示张量形状"
   ],
   "metadata": {
    "collapsed": false,
    "ExecuteTime": {
     "end_time": "2023-06-18T08:13:29.820177Z",
     "start_time": "2023-06-18T08:13:29.775057Z"
    }
   }
  },
  {
   "cell_type": "code",
   "execution_count": 8,
   "outputs": [
    {
     "name": "stdout",
     "output_type": "stream",
     "text": [
      "Downloading data from https://storage.googleapis.com/tensorflow/tf-keras-datasets/boston_housing.npz\n",
      "57026/57026 [==============================] - 0s 3us/step\n",
      "X_train的形状： (404, 13)\n",
      "X_train中第一个样本的形状： (13,)\n",
      "y_train的形状： (404,)\n"
     ]
    }
   ],
   "source": [
    "from keras.datasets import boston_housing  # 波士顿房价数据集\n",
    "# 解决下载资源报错：https://www.jianshu.com/p/7cd22c91d2fe\n",
    "import ssl\n",
    "\n",
    "ssl._create_default_https_context = ssl._create_unverified_context\n",
    "\n",
    "(X_train, y_train), (X_test, y_test) = boston_housing.load_data()\n",
    "\n",
    "print(\"X_train的形状：\", X_train.shape)\n",
    "print(\"X_train中第一个样本的形状：\", X_train[0].shape)\n",
    "print(\"y_train的形状：\", y_train.shape)"
   ],
   "metadata": {
    "collapsed": false,
    "ExecuteTime": {
     "end_time": "2023-06-18T08:15:57.446740Z",
     "start_time": "2023-06-18T08:15:56.614898Z"
    }
   }
  },
  {
   "cell_type": "code",
   "execution_count": 9,
   "outputs": [
    {
     "name": "stdout",
     "output_type": "stream",
     "text": [
      "函数返回结果: 23.2\n"
     ]
    }
   ],
   "source": [
    "weight = np.array([1, -1.8, 1, 1, 2])  # 权重向量(也就是多项式的参数)\n",
    "X = np.array([1, 6, 7, 8, 9])  # 特征向量(也就是一个特定样本中的特征值)\n",
    "y_hat = np.dot(X, weight)  # 通过点积运算构建预测函数\n",
    "print('函数返回结果:', y_hat)  # 输出预测结果"
   ],
   "metadata": {
    "collapsed": false,
    "ExecuteTime": {
     "end_time": "2023-06-18T08:19:47.243163Z",
     "start_time": "2023-06-18T08:19:47.199624Z"
    }
   }
  },
  {
   "cell_type": "code",
   "execution_count": 10,
   "outputs": [
    {
     "name": "stdout",
     "output_type": "stream",
     "text": [
      "X_train的内容： [[1.23247e+00 0.00000e+00 8.14000e+00 ... 2.10000e+01 3.96900e+02\n",
      "  1.87200e+01]\n",
      " [2.17700e-02 8.25000e+01 2.03000e+00 ... 1.47000e+01 3.95380e+02\n",
      "  3.11000e+00]\n",
      " [4.89822e+00 0.00000e+00 1.81000e+01 ... 2.02000e+01 3.75520e+02\n",
      "  3.26000e+00]\n",
      " ...\n",
      " [3.46600e-02 3.50000e+01 6.06000e+00 ... 1.69000e+01 3.62250e+02\n",
      "  7.83000e+00]\n",
      " [2.14918e+00 0.00000e+00 1.95800e+01 ... 1.47000e+01 2.61950e+02\n",
      "  1.57900e+01]\n",
      " [1.43900e-02 6.00000e+01 2.93000e+00 ... 1.56000e+01 3.76700e+02\n",
      "  4.38000e+00]]\n"
     ]
    }
   ],
   "source": [
    "print(\"X_train的内容：\", X_train)  #X_train是2D张量，即矩阵"
   ],
   "metadata": {
    "collapsed": false,
    "ExecuteTime": {
     "end_time": "2023-06-18T08:21:09.789424Z",
     "start_time": "2023-06-18T08:21:09.752155Z"
    }
   }
  },
  {
   "cell_type": "code",
   "execution_count": null,
   "outputs": [],
   "source": [
    "# 创建3D张量\n",
    "X = np.array([\n",
    "    [\n",
    "        [1, 22, 4, 78, 2],\n",
    "        [2, 59, 6, 56, 1],\n",
    "        [3, 31, 8, 54, 0]\n",
    "    ],\n",
    "    [\n",
    "        [4, 56, 9, 34, 1],\n",
    "        [5, 78, 8, 35, 2],\n",
    "        [6, 34, 7, 36, 0]\n",
    "    ],\n",
    "    [\n",
    "        [7, 45, 5, 34, 5],\n",
    "        [8, 53, 6, 35, 4],\n",
    "        [9, 81, 4, 36, 5]\n",
    "    ]\n",
    "])"
   ],
   "metadata": {
    "collapsed": false
   }
  }
 ],
 "metadata": {
  "kernelspec": {
   "display_name": "Python 3",
   "language": "python",
   "name": "python3"
  },
  "language_info": {
   "codemirror_mode": {
    "name": "ipython",
    "version": 2
   },
   "file_extension": ".py",
   "mimetype": "text/x-python",
   "name": "python",
   "nbconvert_exporter": "python",
   "pygments_lexer": "ipython2",
   "version": "2.7.6"
  }
 },
 "nbformat": 4,
 "nbformat_minor": 0
}
