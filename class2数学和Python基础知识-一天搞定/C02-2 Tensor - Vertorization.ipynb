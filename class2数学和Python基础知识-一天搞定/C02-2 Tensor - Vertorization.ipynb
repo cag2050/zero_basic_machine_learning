{
 "cells": [
  {
   "cell_type": "code",
   "execution_count": 2,
   "metadata": {
    "collapsed": true,
    "ExecuteTime": {
     "end_time": "2023-06-18T08:28:56.321354Z",
     "start_time": "2023-06-18T08:28:56.276986Z"
    }
   },
   "outputs": [
    {
     "name": "stdout",
     "output_type": "stream",
     "text": [
      "列表： [1, 2, 3, 4, 5]\n",
      "列表转化为数组： [1 2 3 4 5]\n",
      "元组转化为数组： [ 6  7  8  9 10]\n",
      "2D数组： [[1 2 3]\n",
      " [4 5 6]]\n",
      "array_01数组的形状： (5,)\n",
      "array_03数组的形状： (2, 3)\n"
     ]
    }
   ],
   "source": [
    "import numpy as np  # 导入NumPy数学工具集\n",
    "\n",
    "list = [1, 2, 3, 4, 5]  # 创建列表\n",
    "array_01 = np.array([1, 2, 3, 4, 5])  # 列表转化成数组\n",
    "array_02 = np.array((6, 7, 8, 9, 10))  # 元组转化成数组\n",
    "array_03 = np.array([[1, 2, 3], [4, 5, 6]])  # 列表转化成2D数组\n",
    "print('列表：', list)\n",
    "print('列表转化为数组：', array_01)\n",
    "print('元组转化为数组：', array_02)\n",
    "print('2D数组：', array_03)\n",
    "print('array_01数组的形状：', array_01.shape)\n",
    "print('array_03数组的形状：', array_03.shape)\n",
    "# print ('列表的形状：', list.shape) # 列表没有形状，程序会报错"
   ]
  },
  {
   "cell_type": "code",
   "execution_count": 3,
   "outputs": [
    {
     "name": "stdout",
     "output_type": "stream",
     "text": [
      "[1 2 3 4]\n",
      "[1. 2. 3. 4. 5.]\n"
     ]
    }
   ],
   "source": [
    "array_04 = np.arange(1, 5, 1)  # 通过arange函数生成数组\n",
    "array_05 = np.linspace(1, 5, 5)  # 通过linspace函数生成数组\n",
    "print(array_04)\n",
    "print(array_05)"
   ],
   "metadata": {
    "collapsed": false,
    "ExecuteTime": {
     "end_time": "2023-06-18T08:30:28.700968Z",
     "start_time": "2023-06-18T08:30:28.656916Z"
    }
   }
  },
  {
   "cell_type": "code",
   "execution_count": 4,
   "outputs": [
    {
     "name": "stdout",
     "output_type": "stream",
     "text": [
      "[0 1 2 3 4 5 6 7 8 9]\n",
      "第4个元素 3\n",
      "第-1个元素 9\n",
      "从0到4切片 [0 1 2 3]\n",
      "从0到12切片，步长为4 [0 4 8]\n"
     ]
    }
   ],
   "source": [
    "array_06 = np.arange(10)\n",
    "print(array_06)\n",
    "index_01 = array_06[3]  # 索引-第4个元素\n",
    "print('第4个元素', index_01)\n",
    "index_02 = array_06[-1]  # 索引-最后一个元素\n",
    "print('第-1个元素', index_02)\n",
    "slice_01 = array_06[:4]  # 从0到4切片\n",
    "print('从0到4切片', slice_01)\n",
    "slice_02 = array_06[0:12:4]  # 从0到12切片，步长为4\n",
    "print('从0到12切片，步长为4', slice_02)"
   ],
   "metadata": {
    "collapsed": false,
    "ExecuteTime": {
     "end_time": "2023-06-18T08:33:45.803074Z",
     "start_time": "2023-06-18T08:33:45.764492Z"
    }
   }
  },
  {
   "cell_type": "code",
   "execution_count": 5,
   "outputs": [
    {
     "name": "stderr",
     "output_type": "stream",
     "text": [
      "2023-06-18 16:38:17.971890: I tensorflow/core/platform/cpu_feature_guard.cc:182] This TensorFlow binary is optimized to use available CPU instructions in performance-critical operations.\n",
      "To enable the following instructions: AVX2 FMA, in other operations, rebuild TensorFlow with the appropriate compiler flags.\n"
     ]
    },
    {
     "name": "stdout",
     "output_type": "stream",
     "text": [
      "(60000, 28, 28)\n"
     ]
    }
   ],
   "source": [
    "from keras.datasets import mnist  #需要打开internet选项)\n",
    "# 解决下载资源报错：https://www.jianshu.com/p/7cd22c91d2fe\n",
    "import ssl\n",
    "\n",
    "ssl._create_default_https_context = ssl._create_unverified_context\n",
    "\n",
    "(X_train, y_train), (X_test, y_test) = mnist.load_data()\n",
    "print(X_train.shape)\n",
    "X_train_slice = X_train[10000:15000, :, :]"
   ],
   "metadata": {
    "collapsed": false,
    "ExecuteTime": {
     "end_time": "2023-06-18T08:38:20.332173Z",
     "start_time": "2023-06-18T08:38:16.941466Z"
    }
   }
  },
  {
   "cell_type": "code",
   "execution_count": 7,
   "outputs": [
    {
     "name": "stdout",
     "output_type": "stream",
     "text": [
      "[[1 2 3]\n",
      " [4 5 6]] array_07的形状是 (2, 3)\n",
      "[[4 5 6]] 它的形状是 (1, 3)\n",
      "[4 5 6] 它的形状又不同了 (3,)\n"
     ]
    }
   ],
   "source": [
    "array_07 = np.array([[1, 2, 3], [4, 5, 6]])\n",
    "print(array_07, 'array_07的形状是', array_07.shape)\n",
    "print(array_07[1:2], '它的形状是', array_07[1:2].shape)\n",
    "print(array_07[1:2][0], '它的形状又不同了', array_07[1:2][0].shape)"
   ],
   "metadata": {
    "collapsed": false,
    "ExecuteTime": {
     "end_time": "2023-06-18T08:41:43.334503Z",
     "start_time": "2023-06-18T08:41:43.289262Z"
    }
   }
  },
  {
   "cell_type": "code",
   "execution_count": 8,
   "outputs": [
    {
     "name": "stdout",
     "output_type": "stream",
     "text": [
      "[[1 2 3]\n",
      " [4 5 6]] 形状是 (2, 3)\n",
      "[[1 2]\n",
      " [3 4]\n",
      " [5 6]] 形状是 (3, 2)\n"
     ]
    }
   ],
   "source": [
    "print(array_07, '形状是', array_07.shape)\n",
    "print(array_07.reshape(3, 2), '形状是', array_07.reshape(3, 2).shape)"
   ],
   "metadata": {
    "collapsed": false,
    "ExecuteTime": {
     "end_time": "2023-06-18T08:47:59.331508Z",
     "start_time": "2023-06-18T08:47:59.288126Z"
    }
   }
  },
  {
   "cell_type": "code",
   "execution_count": 10,
   "outputs": [
    {
     "name": "stdout",
     "output_type": "stream",
     "text": [
      "[[1 2 3]\n",
      " [4 5 6]] 形状是 (2, 3)\n",
      "[[1 4]\n",
      " [2 5]\n",
      " [3 6]]  矩阵转置后形状是 (3, 2)\n"
     ]
    }
   ],
   "source": [
    "array_07 = np.array([[1, 2, 3], [4, 5, 6]])\n",
    "print(array_07, '形状是', array_07.shape)\n",
    "array_07 = array_07.T  # 矩阵的转置\n",
    "print(array_07, ' 矩阵转置后形状是', array_07.shape)"
   ],
   "metadata": {
    "collapsed": false,
    "ExecuteTime": {
     "end_time": "2023-06-18T08:51:35.472156Z",
     "start_time": "2023-06-18T08:51:35.405752Z"
    }
   }
  },
  {
   "cell_type": "code",
   "execution_count": 11,
   "outputs": [
    {
     "name": "stdout",
     "output_type": "stream",
     "text": [
      "[0 1 2 3 4 5 6 7 8 9] 形状是 (10,) 阶为 1\n",
      "[[0]\n",
      " [1]\n",
      " [2]\n",
      " [3]\n",
      " [4]\n",
      " [5]\n",
      " [6]\n",
      " [7]\n",
      " [8]\n",
      " [9]] 形状是 (10, 1) 阶为 2\n"
     ]
    }
   ],
   "source": [
    "array_06 = np.arange(10)\n",
    "print(array_06, '形状是', array_06.shape, '阶为', array_06.ndim)\n",
    "array_06 = array_06.reshape(10, 1)\n",
    "print(array_06, '形状是', array_06.shape, '阶为', array_06.ndim)"
   ],
   "metadata": {
    "collapsed": false,
    "ExecuteTime": {
     "end_time": "2023-06-18T08:54:08.356376Z",
     "start_time": "2023-06-18T08:54:08.292182Z"
    }
   }
  },
  {
   "cell_type": "code",
   "execution_count": 14,
   "outputs": [
    {
     "name": "stdout",
     "output_type": "stream",
     "text": [
      "array_08的形状: (4, 3)\n",
      "array_09的形状: (1, 3)\n",
      "array_10的形状: (4, 1)\n",
      "array_09: [[0 1 2]]\n",
      "array_12: [0 1 2]\n",
      "array_12的形状: (3,)\n",
      "array_13的形状: (1,)\n",
      "array_14: [[1]]\n",
      "array_14的形状: (1, 1)\n",
      "08 + 09结果： [[ 0  1  2]\n",
      " [10 11 12]\n",
      " [20 21 22]\n",
      " [30 31 32]]\n",
      "08 + 10结果： [[ 0  0  0]\n",
      " [11 11 11]\n",
      " [22 22 22]\n",
      " [33 33 33]]\n",
      "08 + 11结果： [[ 0  1  2]\n",
      " [10 11 12]\n",
      " [20 21 22]\n",
      " [30 31 32]]\n",
      "08 + 12结果： [[ 0  1  2]\n",
      " [10 11 12]\n",
      " [20 21 22]\n",
      " [30 31 32]]\n",
      "08 + 13结果： [[ 1  1  1]\n",
      " [11 11 11]\n",
      " [21 21 21]\n",
      " [31 31 31]]\n",
      "08 + 14结果： [[ 1  1  1]\n",
      " [11 11 11]\n",
      " [21 21 21]\n",
      " [31 31 31]]\n"
     ]
    }
   ],
   "source": [
    "array_08 = np.array([[0, 0, 0], [10, 10, 10], [20, 20, 20], [30, 30, 30]])\n",
    "array_09 = np.array([[0, 1, 2]])\n",
    "array_10 = np.array([[0], [1], [2], [3]])\n",
    "list_11 = [[0, 1, 2]]\n",
    "print('array_08的形状:', array_08.shape)\n",
    "print('array_09的形状:', array_09.shape)\n",
    "print('array_10的形状:', array_10.shape)\n",
    "array_12 = array_09.reshape(3)\n",
    "print(\"array_09:\", array_09)\n",
    "print(\"array_12:\", array_12)\n",
    "print('array_12的形状:', array_12.shape)\n",
    "array_13 = np.array([1])\n",
    "print('array_13的形状:', array_13.shape)\n",
    "array_14 = array_13.reshape(1, 1)\n",
    "print(\"array_14:\", array_14)\n",
    "print('array_14的形状:', array_14.shape)\n",
    "print('08 + 09结果：', array_08 + array_09)\n",
    "print('08 + 10结果：', array_08 + array_10)\n",
    "print('08 + 11结果：', array_08 + list_11)\n",
    "print('08 + 12结果：', array_08 + array_12)\n",
    "print('08 + 13结果：', array_08 + array_13)\n",
    "print('08 + 14结果：', array_08 + array_14)"
   ],
   "metadata": {
    "collapsed": false,
    "ExecuteTime": {
     "end_time": "2023-06-18T09:00:10.323291Z",
     "start_time": "2023-06-18T09:00:10.263341Z"
    }
   }
  },
  {
   "cell_type": "code",
   "execution_count": 16,
   "outputs": [
    {
     "name": "stdout",
     "output_type": "stream",
     "text": [
      "vector_01的形状: (3,)\n",
      "vector_02的形状: (3, 1)\n",
      "vector_03的形状: (1,)\n",
      "vector_04: [[1 2 3]]\n",
      "vector_04的形状: (1, 3)\n",
      "01和01的点积: 14\n",
      "01和02的点积: [14]\n",
      "04和02的点积: [[14]]\n",
      "01和数字的点积: [2 4 6]\n",
      "02和03的点积: [2 4 6]\n",
      "02和04的点积: [[1 2 3]\n",
      " [2 4 6]\n",
      " [3 6 9]]\n"
     ]
    }
   ],
   "source": [
    "vector_01 = np.array([1, 2, 3])\n",
    "vector_02 = np.array([[1], [2], [3]])\n",
    "vector_03 = np.array([2])\n",
    "vector_04 = vector_02.reshape(1, 3)\n",
    "print('vector_01的形状:', vector_01.shape)\n",
    "print('vector_02的形状:', vector_02.shape)\n",
    "print('vector_03的形状:', vector_03.shape)\n",
    "print('vector_04:', vector_04)\n",
    "print('vector_04的形状:', vector_04.shape)\n",
    "print('01和01的点积:', np.dot(vector_01, vector_01))\n",
    "print('01和02的点积:', np.dot(vector_01, vector_02))\n",
    "print('04和02的点积:', np.dot(vector_04, vector_02))\n",
    "print('01和数字的点积:', np.dot(vector_01, 2))\n",
    "print('02和03的点积:', np.dot(vector_02, vector_03))\n",
    "print('02和04的点积:', np.dot(vector_02, vector_04))\n",
    "# print ('01和03的点积:', np.dot(vector_01,vector_03)) # 程序会报错\n",
    "# print ('02和02的点积:', np.dot(vector_02,vector_02))"
   ],
   "metadata": {
    "collapsed": false,
    "ExecuteTime": {
     "end_time": "2023-06-18T09:08:03.154679Z",
     "start_time": "2023-06-18T09:08:03.056939Z"
    }
   }
  },
  {
   "cell_type": "code",
   "execution_count": null,
   "outputs": [],
   "source": [
    "matrix_01 = np.arange(0, 6).reshape(2, 3)\n",
    "matrix_02 = np.arange(0, 6).reshape(3, 2)\n",
    "print(matrix_01)\n",
    "print(matrix_02)\n",
    "print('01和02的点积:', np.dot(matrix_01, matrix_02))\n",
    "print('02和01的点积:', np.dot(matrix_02, matrix_01))\n",
    "# print('01和01的点积:', np.dot(matrix_01, matrix_01)) #  报错"
   ],
   "metadata": {
    "collapsed": false
   }
  }
 ],
 "metadata": {
  "kernelspec": {
   "display_name": "Python 3",
   "language": "python",
   "name": "python3"
  },
  "language_info": {
   "codemirror_mode": {
    "name": "ipython",
    "version": 2
   },
   "file_extension": ".py",
   "mimetype": "text/x-python",
   "name": "python",
   "nbconvert_exporter": "python",
   "pygments_lexer": "ipython2",
   "version": "2.7.6"
  }
 },
 "nbformat": 4,
 "nbformat_minor": 0
}
