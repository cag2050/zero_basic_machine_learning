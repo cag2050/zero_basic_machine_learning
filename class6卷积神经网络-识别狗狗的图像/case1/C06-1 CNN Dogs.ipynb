{
 "cells": [
  {
   "cell_type": "code",
   "execution_count": 1,
   "metadata": {
    "collapsed": true,
    "ExecuteTime": {
     "end_time": "2023-07-01T13:15:51.508168Z",
     "start_time": "2023-07-01T13:15:50.873077Z"
    }
   },
   "outputs": [
    {
     "name": "stdout",
     "output_type": "stream",
     "text": [
      "['n02085782-Japanese_spaniel', 'n02086079-Pekinese', 'n02085936-Maltese_dog', 'n02086646-Blenheim_spaniel', 'n02088238-basset', 'n02085620-Chihuahua', 'n02086910-papillon', 'n02087394-Rhodesian_ridgeback', 'n02086240-Shih-Tzu', 'n02087046-toy_terrier', 'n02088094-Afghan_hound']\n"
     ]
    }
   ],
   "source": [
    "### 6.5.1 图像数据的读入\n",
    "import numpy as np\n",
    "import pandas as pd\n",
    "import os\n",
    "\n",
    "print(os.listdir(\"./dataset/images/Images\"))"
   ]
  },
  {
   "cell_type": "code",
   "execution_count": 2,
   "outputs": [],
   "source": [
    "# 本示例处理10种狗\n",
    "dir = './dataset/images/Images/'\n",
    "chihuahua_dir = dir + 'n02085620-Chihuahua'  # 吉娃娃\n",
    "japanese_spaniel_dir = dir + 'n02085782-Japanese_spaniel'  # 日本狆\n",
    "maltese_dir = dir + 'n02085936-Maltese_dog'  #马尔济斯犬\n",
    "pekinese_dir = dir + 'n02086079-Pekinese'  #北京狮子狗\n",
    "shitzu_dir = dir + 'n02086240-Shih-Tzu'  #西施犬\n",
    "blenheim_spaniel_dir = dir + 'n02086646-Blenheim_spaniel'  #英国可卡犬\n",
    "papillon_dir = dir + 'n02086910-papillon'  #蝴蝶犬\n",
    "toy_terrier_dir = dir + 'n02087046-toy_terrier'  #玩具猎狐梗\n",
    "afghan_hound_dir = dir + 'n02088094-Afghan_hound'  #阿富汗猎犬\n",
    "basset_dir = dir + 'n02088238-basset'  #巴吉度猎犬"
   ],
   "metadata": {
    "collapsed": false,
    "ExecuteTime": {
     "end_time": "2023-07-01T13:16:31.432049Z",
     "start_time": "2023-07-01T13:16:31.381105Z"
    }
   }
  },
  {
   "cell_type": "code",
   "execution_count": null,
   "outputs": [],
   "source": [
    "import cv2  # 导入Open CV工具箱\n",
    "X = []\n",
    "y_label = []\n",
    "imgsize = 150\n",
    "# 定义一个函数读入狗的图片\n",
    "def training_data(label, data_dir):\n",
    "    print(\"正在读入：\", data_dir)\n",
    "    for img in os.listdir(data_dir):\n",
    "        path = os.path.join(data_dir, img)\n",
    "        img = cv2.imread(path, cv2.IMREAD_COLOR)\n",
    "        img = cv2.resize(img, (imgsize, imgsize))\n",
    "        X.append(np.array(img))\n",
    "        y_label.append(str(label))\n",
    "\n",
    "# 读入10个目录中的狗狗图片\n",
    "training_data('chihuahua',chihuahua_dir)\n",
    "training_data('japanese_spaniel',japanese_spaniel_dir)\n",
    "training_data('maltese',maltese_dir)\n",
    "training_data('pekinese',pekinese_dir)\n",
    "training_data('shitzu',shitzu_dir)\n",
    "training_data('blenheim_spaniel',blenheim_spaniel_dir)\n",
    "training_data('papillon',papillon_dir)\n",
    "training_data('toy_terrier',toy_terrier_dir)\n",
    "training_data('afghan_hound',afghan_hound_dir)\n",
    "training_data('basset',basset_dir)"
   ],
   "metadata": {
    "collapsed": false
   }
  }
 ],
 "metadata": {
  "kernelspec": {
   "display_name": "Python 3",
   "language": "python",
   "name": "python3"
  },
  "language_info": {
   "codemirror_mode": {
    "name": "ipython",
    "version": 2
   },
   "file_extension": ".py",
   "mimetype": "text/x-python",
   "name": "python",
   "nbconvert_exporter": "python",
   "pygments_lexer": "ipython2",
   "version": "2.7.6"
  }
 },
 "nbformat": 4,
 "nbformat_minor": 0
}
